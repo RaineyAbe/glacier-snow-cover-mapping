{
 "cells": [
  {
   "cell_type": "markdown",
   "metadata": {},
   "source": [
    "## Notebook to bulk download Planet imagery through the Planet API\n",
    "\n",
    "Rainey Aberle\n",
    "\n",
    "Modified from [Planet Developers API Tutorial](https://developers.planet.com/docs/apis/data/) and the Planet Labs Jupyter Notebooks for [API orders tutorials](https://github.com/planetlabs/notebooks/tree/665f165e59f2c3584976ad2dde569c649e631c0b/jupyter-notebooks/orders_api_tutorials)."
   ]
  },
  {
   "cell_type": "markdown",
   "metadata": {},
   "source": [
    "### 1. Define paths in directory and setup filters for image search. \n",
    "\n",
    "#### _MODIFY THIS CELL_"
   ]
  },
  {
   "cell_type": "code",
   "execution_count": null,
   "metadata": {},
   "outputs": [],
   "source": [
    "# -----Define paths in directory\n",
    "site_name = 'Sperry'\n",
    "# path to glacier-snow-cover-mapping/\n",
    "base_path = '/Users/raineyaberle/Research/glacier_snow_cover_mapping/glacier-snow-cover-mapping' \n",
    "# path for saving image downloads\n",
    "out_path = '/Users/raineyaberle/Research/glacier_snow_cover_mapping/study-sites/' + site_name\n",
    "\n",
    "# -----Area of Interest (AOI)\n",
    "# Path and filename of your AOI shapefile\n",
    "aoi_path = '/Users/raineyaberle/Research/glacier_snow_cover_mapping/study-sites/' + site_name + '/AOIs/'\n",
    "aoi_fn = site_name + '_Glacier_Boundaries_20140907.shp' \n",
    "\n",
    "# -----AOI buffer\n",
    "# Apply buffer to aoi before creating bounding box, image querying, and cropping images\n",
    "buffer = 500 # meters\n",
    "\n",
    "# -----Date Range\n",
    "# Format: 'YYYY-MM-DD'\n",
    "start_date = '2023-05-01'\n",
    "end_date = '2023-11-01'\n",
    "\n",
    "# -----Month Range\n",
    "# range of months to include, where both start and end months are included\n",
    "start_month = 5 \n",
    "end_month = 11\n",
    "\n",
    "# -----Cloud Cover Filter\n",
    "# Format: decimal (e.g., 50% max cloud cover = 0.5)\n",
    "max_cloud_cover = 0.5\n",
    "\n",
    "# -----Item Type\n",
    "# See here for possible image (\"item\") types:\n",
    "# https://developers.planet.com/docs/apis/data/items-assets/\n",
    "# PlanetScope Scene: item_type = \"PSScene\"\n",
    "# RapidEye Orthorectified Scene: item_type = \"REOrthoTile\"\n",
    "item_type = \"PSScene\"\n",
    "\n",
    "# -----Asset Type\n",
    "# Each Item Type has a number of image (\"asset\") types to choose from.\n",
    "# See here for the asset types available for your item type:\n",
    "# https://developers.planet.com/docs/apis/data/items-assets/\n",
    "# \n",
    "# PlanetScope orthorectified 4-band surface reflectance products: asset_type = \"ortho_analytic_4b_sr\"\n",
    "# RapidEye orthorectified 5-band surface refelctance products: asset_type = \"analytic_sr\"\n",
    "asset_type = \"ortho_analytic_4b_sr\"\n",
    "\n",
    "# -----aoi clipping\n",
    "# Determine whether to clip images to the aoi (True/False)\n",
    "# This greatly speeds up the ordering and downloading process and decreases the usage of your imagery quota\n",
    "clip_to_aoi = True\n",
    "\n",
    "# -----Sentinel-2 Harmonization\n",
    "# option to harmonize PlanetScope imagery to Sentinel-2\n",
    "harmonize = True # = True to harmonize\n",
    "\n",
    "# -----Name of order\n",
    "# Once requested, this makes it easier to locate the order on your \"My Orders\" page \n",
    "# in order to check the status or to re-download items via the website, etc. \n",
    "order_name = site_name + '_' + item_type[0:2] + '_' + start_date.replace('-','') + '-' + end_date.replace('-','')\n",
    "print('Order name: ' + order_name)"
   ]
  },
  {
   "cell_type": "code",
   "execution_count": null,
   "metadata": {},
   "outputs": [],
   "source": [
    "# -----Import packages\n",
    "import os\n",
    "import glob\n",
    "import json\n",
    "from getpass import getpass\n",
    "from planet import Auth, Session, OrdersClient, reporting\n",
    "import requests\n",
    "from requests.auth import HTTPBasicAuth\n",
    "import geopandas as gpd\n",
    "from shapely import geometry as sgeom\n",
    "import rioxarray as rxr\n",
    "import numpy as np\n",
    "import matplotlib.pyplot as plt\n",
    "import sys\n",
    "from pathlib import Path\n",
    "\n",
    "# add path to functions\n",
    "sys.path.insert(1, os.path.join(base_path, 'functions'))\n",
    "import pipeline_utils as f\n",
    "import PlanetScope_orders_utils as orders_utils"
   ]
  },
  {
   "cell_type": "markdown",
   "metadata": {},
   "source": [
    "### 2. Authenticate your Planet account\n",
    "\n",
    "Requires your Planet API Key. To find your API Key, Login to your account at [planet.com](https://www.planet.com/) and go to \"My Settings\". \n",
    "\n",
    "If output is `<Repsonse [200]>`, authentication was successful. "
   ]
  },
  {
   "cell_type": "code",
   "execution_count": null,
   "metadata": {},
   "outputs": [],
   "source": [
    "# set API key as environment variable\n",
    "API_key = getpass('Enter Planet API Key, then press Enter:')\n",
    "os.environ['PL_API_KEY'] = API_key\n",
    "\n",
    "# Setup the API Key stored as the `PL_API_KEY` environment variable\n",
    "PLANET_API_KEY = os.getenv('PL_API_KEY')\n",
    "\n",
    "# Orders URL\n",
    "orders_url = 'https://api.planet.com/compute/ops/orders/v2'\n",
    "\n",
    "# Authorize\n",
    "auth = HTTPBasicAuth(PLANET_API_KEY, '')\n",
    "response = requests.get(orders_url, auth=auth)\n",
    "response"
   ]
  },
  {
   "cell_type": "markdown",
   "metadata": {},
   "source": [
    "### 3. Reformat AOI for querying"
   ]
  },
  {
   "cell_type": "code",
   "execution_count": null,
   "metadata": {},
   "outputs": [],
   "source": [
    "# -----Read in the shapefile\n",
    "aoi = gpd.read_file(os.path.join(aoi_path, aoi_fn))\n",
    "aoi_wgs = aoi.to_crs('EPSG:4326')\n",
    "# Solver for optimal UTM zone\n",
    "epsg_utm = f.convert_wgs_to_utm(aoi_wgs.geometry[0].boundary.centroid.coords.xy[0][0], \n",
    "                                aoi_wgs.geometry[0].boundary.centroid.coords.xy[1][0])\n",
    "aoi_utm = aoi.to_crs('EPSG:'+epsg_utm)\n",
    "aoi_utm_buffer = aoi_utm.buffer(buffer)\n",
    "# Reproject to WGS84 if necessary\n",
    "aoi_wgs_buffer = aoi_utm_buffer.to_crs('EPSG:4326')\n",
    "\n",
    "# -----Convert AOI bounding box to geoJSON format\n",
    "# Planet only excepts a bounding box as a spatial filter, \n",
    "# so we need to convert our aoi to a box (if it is not already). \n",
    "aoi_box = {u'type': u'Polygon',\n",
    "            u'coordinates': [[\n",
    "               [aoi_wgs_buffer.bounds.minx[0],aoi_wgs_buffer.bounds.miny[0]],\n",
    "               [aoi_wgs_buffer.bounds.maxx[0],aoi_wgs_buffer.bounds.miny[0]],\n",
    "               [aoi_wgs_buffer.bounds.maxx[0],aoi_wgs_buffer.bounds.maxy[0]],\n",
    "               [aoi_wgs_buffer.bounds.minx[0],aoi_wgs_buffer.bounds.maxy[0]],\n",
    "               [aoi_wgs_buffer.bounds.minx[0],aoi_wgs_buffer.bounds.miny[0]]\n",
    "            ]]\n",
    "          }\n",
    "# Convert AOI geojson to a rasterio Shape for Quick Search function\n",
    "aoi_box_shape = sgeom.shape(aoi_box)\n",
    "\n",
    "# -----Plot AOI and bounding box\n",
    "fig, ax1 = plt.subplots(1, 1, figsize=(8,8))\n",
    "aoi_wgs.plot(ax=ax1, facecolor='none') # aoi\n",
    "ax1.plot(*aoi_box_shape.exterior.xy) # aoi box\n",
    "ax1.set_title('aoi outline and bounding box')\n",
    "ax1.set_xlabel('Longitude')\n",
    "ax1.set_ylabel('Latitude')\n",
    "plt.show()"
   ]
  },
  {
   "cell_type": "markdown",
   "metadata": {},
   "source": [
    "### 4. Compile filters to create a Quick Search request\n",
    "\n",
    "Use Quick Search first to grab image IDs before ordering"
   ]
  },
  {
   "cell_type": "code",
   "execution_count": null,
   "metadata": {},
   "outputs": [],
   "source": [
    "# -----Build QuickSearch request and fire off the POST request\n",
    "im_ids = orders_utils.build_quick_search_request(aoi_box_shape, max_cloud_cover, start_date, end_date, \n",
    "                                                 item_type, asset_type, auth=auth)"
   ]
  },
  {
   "cell_type": "code",
   "execution_count": null,
   "metadata": {
    "scrolled": true,
    "tags": []
   },
   "outputs": [],
   "source": [
    "# -----Filter image IDs for month range and check if they exist in directory\n",
    "im_ids_filtered = orders_utils.filter_image_ids(im_ids, start_month, end_month, os.path.join(out_path, 'raw_images'))"
   ]
  },
  {
   "cell_type": "markdown",
   "metadata": {},
   "source": [
    "### 5. Place order and poll for success\n",
    "\n",
    "This section compiles the request and places the order with outputs on the order status every ~5 seconds. Download will begin when the console outputs \"success\". "
   ]
  },
  {
   "cell_type": "code",
   "execution_count": null,
   "metadata": {
    "scrolled": true,
    "tags": []
   },
   "outputs": [],
   "source": [
    "# -----Build new request\n",
    "request = orders_utils.build_request_with_item_ids(base_path, order_name, aoi_box, clip_to_aoi, harmonize, im_ids_filtered, item_type, asset_type)\n",
    "\n",
    "# -----Place order and download results\n",
    "async def create_poll_and_download():\n",
    "    async with Session(auth=auth) as sess:\n",
    "        cl = OrdersClient(sess)\n",
    "\n",
    "        # Use \"reporting\" to manage polling for order status\n",
    "        with reporting.StateBar(state='creating') as bar:\n",
    "            # create order via Orders client\n",
    "            order = await cl.create_order(request) \n",
    "            bar.update(state='created', order_id=order['id'])\n",
    "\n",
    "            # poll...poll...poll...\n",
    "            # setting max_attempts=0 means there is no limit on the number of attempts\n",
    "            await cl.wait(order['id'], callback=bar.update_state, max_attempts=0)\n",
    "\n",
    "        # if we get here that means the order completed. Yay! Download the files.\n",
    "        await cl.download_order(order['id'], directory=Path(out_path))\n",
    "        \n",
    "# remember: \"await\" to run the thing\n",
    "await create_poll_and_download()"
   ]
  },
  {
   "cell_type": "markdown",
   "metadata": {},
   "source": [
    "### _Optional:_ Plot downloaded images"
   ]
  },
  {
   "cell_type": "code",
   "execution_count": null,
   "metadata": {},
   "outputs": [],
   "source": [
    "# -----Grab output image file names\n",
    "# set image output folder\n",
    "im_path = os.path.join(out_path, 'raw_images')\n",
    "# change directory to im_path\n",
    "os.chdir(im_path) \n",
    "# grab image file names\n",
    "im_fns = sorted(glob.glob('*SR*.tif'))\n",
    "\n",
    "# -----Loop through files\n",
    "for im_fn in im_fns:\n",
    "    \n",
    "    # open image\n",
    "    im = rxr.open_rasterio(im_fn)\n",
    "    # account for image scalar\n",
    "    im_scalar = 1e4\n",
    "    im = im / im_scalar\n",
    "    # replace no data values with NaN\n",
    "    im = im.where(im!=-9999)\n",
    "    \n",
    "    # plot RGB image\n",
    "    fig, ax = plt.subplots(1, 1, figsize=(6,6))\n",
    "    ax.imshow(np.dstack([im.data[2], im.data[1], im.data[0]]), \n",
    "              extent=(im.x.data[0]/1e3, im.x.data[-1]/1e3, im.y.data[0]/1e3, im.y.data[-1]/1e3))\n",
    "    ax.set_xlabel('Easting [km]')\n",
    "    ax.set_ylabel('Northing [km]')\n",
    "    ax.set_title(im_fn.split('_')[1][0:10])\n",
    "    plt.show()"
   ]
  }
 ],
 "metadata": {
  "kernelspec": {
   "display_name": "Python 3",
   "language": "python",
   "name": "python3"
  },
  "language_info": {
   "codemirror_mode": {
    "name": "ipython",
    "version": 3
   },
   "file_extension": ".py",
   "mimetype": "text/x-python",
   "name": "python",
   "nbconvert_exporter": "python",
   "pygments_lexer": "ipython3",
   "version": "3.8.5"
  },
  "varInspector": {
   "cols": {
    "lenName": 16,
    "lenType": 16,
    "lenVar": 40
   },
   "kernels_config": {
    "python": {
     "delete_cmd_postfix": "",
     "delete_cmd_prefix": "del ",
     "library": "var_list.py",
     "varRefreshCmd": "print(var_dic_list())"
    },
    "r": {
     "delete_cmd_postfix": ") ",
     "delete_cmd_prefix": "rm(",
     "library": "var_list.r",
     "varRefreshCmd": "cat(var_dic_list()) "
    }
   },
   "types_to_exclude": [
    "module",
    "function",
    "builtin_function_or_method",
    "instance",
    "_Feature"
   ],
   "window_display": false
  }
 },
 "nbformat": 4,
 "nbformat_minor": 4
}
