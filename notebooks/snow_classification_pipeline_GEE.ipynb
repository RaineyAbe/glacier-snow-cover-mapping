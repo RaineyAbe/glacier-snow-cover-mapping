{
 "cells": [
  {
   "cell_type": "markdown",
   "id": "679c57e8",
   "metadata": {},
   "source": [
    "# Classification pipeline using GEE classifiers\n",
    "\n",
    "Full glacier-snow-cover-mapping classification pipeline for Sentinel-2 TOA, Sentinel-2 SR, and Landsat 8/9 images. \n",
    "\n",
    "__Requirements:__\n",
    "1. Google Earth Engine (GEE) account: used to query imagery and the DEM (if no DEM is provided). Sign up for a free account [here](https://earthengine.google.com/new_signup/). \n",
    "\n",
    "2. Google Drive folder, where output snow cover statistics will be saved. "
   ]
  },
  {
   "cell_type": "markdown",
   "id": "2b90f0f8",
   "metadata": {},
   "source": [
    "## 1. Define user-specific settings and paths"
   ]
  },
  {
   "cell_type": "code",
   "execution_count": null,
   "id": "46d472ad",
   "metadata": {},
   "outputs": [],
   "source": [
    "import os\n",
    "import ee\n",
    "import geemap\n",
    "import sys\n",
    "\n",
    "# -----Define paths\n",
    "# path to glacier-snow-cover-mapping\n",
    "code_path = '/Users/raineyaberle/Research/PhD/snow_cover_mapping/glacier-snow-cover-mapping/'\n",
    "# Google Drive folder for outputs\n",
    "out_path = 'snow_cover_mapping/test'\n",
    "\n",
    "# -----Import pipeline utilities\n",
    "sys.path.append(os.path.join(code_path, 'functions'))\n",
    "import pipeline_utils_GEE as utils\n",
    "\n",
    "# -----Define image search settings\n",
    "# Date and month ranges (inclusive)\n",
    "date_start = '2013-05-01'\n",
    "date_end = '2025-05-07'\n",
    "month_start = 6\n",
    "month_end = 11\n",
    "# Minimum fill portion of the AOI (0–100), used to remove images after mosaicking by day. \n",
    "min_aoi_coverage = 70\n",
    "# Whether to mask clouds using the respective cloud mask via the geedim package\n",
    "mask_clouds = True"
   ]
  },
  {
   "cell_type": "markdown",
   "id": "2e1fe38a",
   "metadata": {},
   "source": [
    "## 2. Authenticate and/or Initialize Google Earth Engine (GEE)\n",
    "\n",
    "Replace the project ID with your GEE project. Default = `ee-{GEE-username}`"
   ]
  },
  {
   "cell_type": "code",
   "execution_count": 2,
   "id": "c276471a",
   "metadata": {},
   "outputs": [
    {
     "data": {
      "text/html": [
       "\n",
       "            <style>\n",
       "                .geemap-dark {\n",
       "                    --jp-widgets-color: white;\n",
       "                    --jp-widgets-label-color: white;\n",
       "                    --jp-ui-font-color1: white;\n",
       "                    --jp-layout-color2: #454545;\n",
       "                    background-color: #383838;\n",
       "                }\n",
       "\n",
       "                .geemap-dark .jupyter-button {\n",
       "                    --jp-layout-color3: #383838;\n",
       "                }\n",
       "\n",
       "                .geemap-colab {\n",
       "                    background-color: var(--colab-primary-surface-color, white);\n",
       "                }\n",
       "\n",
       "                .geemap-colab .jupyter-button {\n",
       "                    --jp-layout-color3: var(--colab-primary-surface-color, white);\n",
       "                }\n",
       "            </style>\n",
       "            "
      ],
      "text/plain": [
       "<IPython.core.display.HTML object>"
      ]
     },
     "metadata": {},
     "output_type": "display_data"
    }
   ],
   "source": [
    "project_id = \"ee-raineyaberle\"\n",
    "\n",
    "try:\n",
    "    ee.Initialize(project=project_id)\n",
    "except:\n",
    "    ee.Authenticate()\n",
    "    ee.Initialize(project=project_id)"
   ]
  },
  {
   "cell_type": "markdown",
   "id": "2730e1cf",
   "metadata": {},
   "source": [
    "## 3. Select the Area of Interest (AOI) from the GLIMS dataset\n",
    "\n",
    "This cell will plot the GLIMS dataset on a map. To find a glacier, select the wrench in the upper right toolbox of the map, and use the \"Inspector\" to click on a polygon and view the \"glac_id\". Right click on the \"glac_id\" to highlight and then copy. Replace the `glac_id` variable below with your selected site. "
   ]
  },
  {
   "cell_type": "code",
   "execution_count": 3,
   "id": "6b29f48c",
   "metadata": {},
   "outputs": [
    {
     "data": {
      "text/html": [
       "\n",
       "            <style>\n",
       "                .geemap-dark {\n",
       "                    --jp-widgets-color: white;\n",
       "                    --jp-widgets-label-color: white;\n",
       "                    --jp-ui-font-color1: white;\n",
       "                    --jp-layout-color2: #454545;\n",
       "                    background-color: #383838;\n",
       "                }\n",
       "\n",
       "                .geemap-dark .jupyter-button {\n",
       "                    --jp-layout-color3: #383838;\n",
       "                }\n",
       "\n",
       "                .geemap-colab {\n",
       "                    background-color: var(--colab-primary-surface-color, white);\n",
       "                }\n",
       "\n",
       "                .geemap-colab .jupyter-button {\n",
       "                    --jp-layout-color3: var(--colab-primary-surface-color, white);\n",
       "                }\n",
       "            </style>\n",
       "            "
      ],
      "text/plain": [
       "<IPython.core.display.HTML object>"
      ]
     },
     "metadata": {},
     "output_type": "display_data"
    },
    {
     "data": {
      "application/vnd.jupyter.widget-view+json": {
       "model_id": "a820398c821046b5858a219f34ba2783",
       "version_major": 2,
       "version_minor": 0
      },
      "text/plain": [
       "Map(center=[0, 0], controls=(WidgetControl(options=['position', 'transparent_bg'], widget=SearchDataGUI(childr…"
      ]
     },
     "execution_count": 3,
     "metadata": {},
     "output_type": "execute_result"
    }
   ],
   "source": [
    "# Create a Map\n",
    "Map = geemap.Map()\n",
    "\n",
    "# Add the GLIMS dataset to the map\n",
    "glims = ee.FeatureCollection('GLIMS/20230607')\n",
    "Map.addLayer(glims, {'color': 'blue', 'opacity':  0.5}, 'GLIMS/20230607')\n",
    "\n",
    "# Select your study site\n",
    "glac_id = 'G220740E60158N'\n",
    "aoi = glims.filter(ee.Filter.eq('glac_id', glac_id))\n",
    "\n",
    "# Merge all geometries to use as the AOI \n",
    "aoi = aoi.union().geometry()\n",
    "\n",
    "# Add AOI to the map\n",
    "Map.addLayer(aoi, {'color': 'green', 'opacity': 0.8}, 'AOI')\n",
    "Map.centerObject(aoi)\n",
    "\n",
    "# Display the map\n",
    "Map"
   ]
  },
  {
   "cell_type": "markdown",
   "id": "40ca915f",
   "metadata": {},
   "source": [
    "## 4. Load the Digital Elevation Model (DEM)\n",
    "\n",
    "Default: use the ArcticDEM Mosaic where there is coverage. Otherwise, use the NASADEM. For sites that use the ArcticDEM Mosaic, elevations are reprojected to the EGM96 geoid to match the vertical datum of NASADEM. "
   ]
  },
  {
   "cell_type": "code",
   "execution_count": null,
   "id": "2fe69f32",
   "metadata": {},
   "outputs": [
    {
     "data": {
      "text/html": [
       "\n",
       "            <style>\n",
       "                .geemap-dark {\n",
       "                    --jp-widgets-color: white;\n",
       "                    --jp-widgets-label-color: white;\n",
       "                    --jp-ui-font-color1: white;\n",
       "                    --jp-layout-color2: #454545;\n",
       "                    background-color: #383838;\n",
       "                }\n",
       "\n",
       "                .geemap-dark .jupyter-button {\n",
       "                    --jp-layout-color3: #383838;\n",
       "                }\n",
       "\n",
       "                .geemap-colab {\n",
       "                    background-color: var(--colab-primary-surface-color, white);\n",
       "                }\n",
       "\n",
       "                .geemap-colab .jupyter-button {\n",
       "                    --jp-layout-color3: var(--colab-primary-surface-color, white);\n",
       "                }\n",
       "            </style>\n",
       "            "
      ],
      "text/plain": [
       "<IPython.core.display.HTML object>"
      ]
     },
     "metadata": {},
     "output_type": "display_data"
    },
    {
     "name": "stdout",
     "output_type": "stream",
     "text": [
      "\n",
      "Querying GEE for DEM\n",
      "ArcticDEM coverage < 90%\n",
      "Using NASADEM\n"
     ]
    }
   ],
   "source": [
    "# Query GEE for DEM\n",
    "dem = utils.query_gee_for_dem(aoi)\n",
    "\n",
    "# Add DEM to map\n",
    "minMax = dem.reduceRegion(reducer=ee.Reducer.minMax(),\n",
    "                          geometry=aoi, \n",
    "                          scale=30,\n",
    "                          maxPixels=1e13,\n",
    "                          bestEffort=True)\n",
    "elev_min = minMax.get('elevation_min')\n",
    "elev_max = minMax.get('elevation_max')\n",
    "# based on the \"terrain\" palette from matplotlib\n",
    "palette = ['#333399', '#0d7fe5', '#00be90','#55dd77','#c6f48e','#e3db8a','#aa926b','#8e6e67','#c6b6b3','#ffffff']\n",
    "Map.addLayer(dem, {'palette': palette, 'min' : elev_min, 'max': elev_max}, 'DEM')\n"
   ]
  },
  {
   "cell_type": "markdown",
   "id": "ca17ed19",
   "metadata": {},
   "source": [
    "## 5. Run classification pipeline for each image dataset"
   ]
  },
  {
   "cell_type": "markdown",
   "id": "5cb54d54",
   "metadata": {},
   "source": [
    "### Sentinel-2 Top of Atmosphere (TOA)"
   ]
  },
  {
   "cell_type": "code",
   "execution_count": null,
   "id": "775d2a91",
   "metadata": {},
   "outputs": [
    {
     "data": {
      "text/html": [
       "\n",
       "            <style>\n",
       "                .geemap-dark {\n",
       "                    --jp-widgets-color: white;\n",
       "                    --jp-widgets-label-color: white;\n",
       "                    --jp-ui-font-color1: white;\n",
       "                    --jp-layout-color2: #454545;\n",
       "                    background-color: #383838;\n",
       "                }\n",
       "\n",
       "                .geemap-dark .jupyter-button {\n",
       "                    --jp-layout-color3: #383838;\n",
       "                }\n",
       "\n",
       "                .geemap-colab {\n",
       "                    background-color: var(--colab-primary-surface-color, white);\n",
       "                }\n",
       "\n",
       "                .geemap-colab .jupyter-button {\n",
       "                    --jp-layout-color3: var(--colab-primary-surface-color, white);\n",
       "                }\n",
       "            </style>\n",
       "            "
      ],
      "text/plain": [
       "<IPython.core.display.HTML object>"
      ]
     },
     "metadata": {},
     "output_type": "display_data"
    },
    {
     "name": "stdout",
     "output_type": "stream",
     "text": [
      "\n",
      "Querying GEE for Sentinel-2_TOA image collection\n",
      "\n",
      "Classifying image collection\n",
      "\n",
      "Calculating snow cover statistics\n",
      "Exporting snow cover statistics to Google Drive folder with description: G220740E60158N_Sentinel-2_TOA_snow_cover_stats_2013-05-01_2025-05-07\n",
      "To monitor tasks, go to your GEE Task Manager: https://code.earthengine.google.com/tasks\n"
     ]
    }
   ],
   "source": [
    "# Define dataset-specific params\n",
    "dataset = \"Sentinel-2_TOA\"\n",
    "resolution = 10\n",
    "\n",
    "# Query GEE for imagery\n",
    "image_collection = utils.query_gee_for_imagery(dataset, aoi, date_start, date_end, month_start, month_end, \n",
    "                                               min_aoi_coverage, mask_clouds)\n",
    "\n",
    "# Classify image collection\n",
    "classified_collection = utils.classify_image_collection(image_collection, dataset)\n",
    "\n",
    "# Calculate snow cover statistics, export to Google Drive\n",
    "stats = utils.calculate_snow_cover_statistics(classified_collection, dem, aoi, scale=resolution, \n",
    "                                              file_name_prefix=f\"{glac_id}_{dataset}_snow_cover_stats_{date_start}_{date_end}\")\n"
   ]
  },
  {
   "cell_type": "markdown",
   "id": "bda52169",
   "metadata": {},
   "source": [
    "### Sentinel-2 Surface Reflectance"
   ]
  },
  {
   "cell_type": "code",
   "execution_count": null,
   "id": "635b8117",
   "metadata": {},
   "outputs": [],
   "source": [
    "# Define dataset-specific params\n",
    "dataset = \"Sentinel-2_SR\"\n",
    "resolution = 10\n",
    "\n",
    "# Query GEE for imagery\n",
    "image_collection = utils.query_gee_for_imagery(dataset, aoi, date_start, date_end, month_start, month_end, \n",
    "                                               min_aoi_coverage, mask_clouds)\n",
    "\n",
    "# Classify image collection\n",
    "classified_collection = utils.classify_image_collection(image_collection, dataset)\n",
    "\n",
    "# Calculate snow cover statistics, export to Google Drive\n",
    "stats = utils.calculate_snow_cover_statistics(classified_collection, dem, aoi, scale=resolution, \n",
    "                                              file_name_prefix=f\"{glac_id}_{dataset}_snow_cover_stats_{date_start}_{date_end}\")"
   ]
  },
  {
   "cell_type": "markdown",
   "id": "4c9aa464",
   "metadata": {},
   "source": [
    "### Landsat 8/9"
   ]
  },
  {
   "cell_type": "code",
   "execution_count": null,
   "id": "a7765329",
   "metadata": {},
   "outputs": [],
   "source": [
    "# Define dataset-specific params\n",
    "dataset = \"Landsat\"\n",
    "resolution = 30\n",
    "\n",
    "# Query GEE for imagery\n",
    "image_collection = utils.query_gee_for_imagery(dataset, aoi, date_start, date_end, month_start, month_end, \n",
    "                                               min_aoi_coverage, mask_clouds)\n",
    "\n",
    "# Classify image collection\n",
    "classified_collection = utils.classify_image_collection(image_collection, dataset)\n",
    "\n",
    "# Calculate snow cover statistics, export to Google Drive\n",
    "stats = utils.calculate_snow_cover_statistics(classified_collection, dem, aoi, scale=resolution, \n",
    "                                              file_name_prefix=f\"{glac_id}_{dataset}_snow_cover_stats_{date_start}_{date_end}\")"
   ]
  }
 ],
 "metadata": {
  "kernelspec": {
   "display_name": "gscm_env",
   "language": "python",
   "name": "python3"
  },
  "language_info": {
   "codemirror_mode": {
    "name": "ipython",
    "version": 3
   },
   "file_extension": ".py",
   "mimetype": "text/x-python",
   "name": "python",
   "nbconvert_exporter": "python",
   "pygments_lexer": "ipython3",
   "version": "3.11.11"
  }
 },
 "nbformat": 4,
 "nbformat_minor": 5
}
